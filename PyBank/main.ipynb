{
 "cells": [
  {
   "cell_type": "code",
   "execution_count": 1,
   "metadata": {},
   "outputs": [
    {
     "data": {
      "text/html": [
       "<div>\n",
       "<style scoped>\n",
       "    .dataframe tbody tr th:only-of-type {\n",
       "        vertical-align: middle;\n",
       "    }\n",
       "\n",
       "    .dataframe tbody tr th {\n",
       "        vertical-align: top;\n",
       "    }\n",
       "\n",
       "    .dataframe thead th {\n",
       "        text-align: right;\n",
       "    }\n",
       "</style>\n",
       "<table border=\"1\" class=\"dataframe\">\n",
       "  <thead>\n",
       "    <tr style=\"text-align: right;\">\n",
       "      <th></th>\n",
       "      <th>Date</th>\n",
       "      <th>Profit/Losses</th>\n",
       "    </tr>\n",
       "  </thead>\n",
       "  <tbody>\n",
       "    <tr>\n",
       "      <th>0</th>\n",
       "      <td>Jan-2010</td>\n",
       "      <td>867884</td>\n",
       "    </tr>\n",
       "    <tr>\n",
       "      <th>1</th>\n",
       "      <td>Feb-2010</td>\n",
       "      <td>984655</td>\n",
       "    </tr>\n",
       "    <tr>\n",
       "      <th>2</th>\n",
       "      <td>Mar-2010</td>\n",
       "      <td>322013</td>\n",
       "    </tr>\n",
       "    <tr>\n",
       "      <th>3</th>\n",
       "      <td>Apr-2010</td>\n",
       "      <td>-69417</td>\n",
       "    </tr>\n",
       "    <tr>\n",
       "      <th>4</th>\n",
       "      <td>May-2010</td>\n",
       "      <td>310503</td>\n",
       "    </tr>\n",
       "  </tbody>\n",
       "</table>\n",
       "</div>"
      ],
      "text/plain": [
       "       Date  Profit/Losses\n",
       "0  Jan-2010         867884\n",
       "1  Feb-2010         984655\n",
       "2  Mar-2010         322013\n",
       "3  Apr-2010         -69417\n",
       "4  May-2010         310503"
      ]
     },
     "execution_count": 1,
     "metadata": {},
     "output_type": "execute_result"
    }
   ],
   "source": [
    "import csv\n",
    "import pandas as pd\n",
    "\n",
    "budget = r\"C:\\Users\\skm72\\Desktop\\git\\Homework\\Python - Challenge\\python_challenge\\Resources\\budget_data.csv\"\n",
    "budget_df=pd.read_csv(budget)\n",
    "budget_df.head()"
   ]
  },
  {
   "cell_type": "code",
   "execution_count": 2,
   "metadata": {},
   "outputs": [],
   "source": [
    "#Total amount of months\n",
    "with open(budget) as csvfile:\n",
    "    month_count = sum(1 for row in csvfile)\n",
    "\n",
    "#Total profit/losses\n",
    "profit_loss_total = budget_df[\"Profit/Losses\"].sum()"
   ]
  },
  {
   "cell_type": "code",
   "execution_count": 3,
   "metadata": {},
   "outputs": [],
   "source": [
    "#Finding the difference per month\n",
    "for i in range(0,budget_df.shape[0]-1):\n",
    "    budget_df.loc[budget_df.index[i+1],'Change per Month'] = round((budget_df.iloc[i+1,1])- (budget_df.iloc[i,1]))"
   ]
  },
  {
   "cell_type": "code",
   "execution_count": 4,
   "metadata": {},
   "outputs": [],
   "source": [
    "#Finding the average change\n",
    "average_change = round(budget_df[\"Change per Month\"].mean(),2)"
   ]
  },
  {
   "cell_type": "code",
   "execution_count": 5,
   "metadata": {},
   "outputs": [],
   "source": [
    "#Finding the greatest increase/decrease in profit\n",
    "greatest_increase = round(budget_df[\"Change per Month\"].max())\n",
    "month_increase = budget_df[budget_df[\"Change per Month\"]==(greatest_increase)][\"Date\"].item()\n",
    "\n",
    "greatest_decrease = round(budget_df[\"Change per Month\"].min())\n",
    "month_decrease = budget_df[budget_df[\"Change per Month\"]==(greatest_decrease)][\"Date\"].item()"
   ]
  },
  {
   "cell_type": "code",
   "execution_count": 7,
   "metadata": {},
   "outputs": [
    {
     "name": "stdout",
     "output_type": "stream",
     "text": [
      "Financial Analysis\n",
      "----------------------------\n",
      "Total Months: 87\n",
      "Total: $38382578\n",
      "Average Change: $-2315.12\n",
      "Greatest Increase in Profits: Feb-2012 ($1926159)\n",
      "Greatest Decrease in Profits: Sep-2013 ($-2196167)\n"
     ]
    }
   ],
   "source": [
    "print(\"Financial Analysis\")\n",
    "print(\"----------------------------\")\n",
    "print(\"Total Months: \" + str(month_count))\n",
    "print(\"Total: $\" + str(profit_loss_total))\n",
    "print(\"Average Change: $\" + str(average_change))\n",
    "print(\"Greatest Increase in Profits: \" + str(month_increase) + \" ($\" + str(greatest_increase) + \")\")\n",
    "print(\"Greatest Decrease in Profits: \" + str(month_decrease) + \" ($\" + str(greatest_decrease) + \")\")"
   ]
  },
  {
   "cell_type": "code",
   "execution_count": 8,
   "metadata": {},
   "outputs": [],
   "source": [
    "with open('Financial Analysis.txt', 'w') as file:\n",
    "    file.write(\"Financial Analysis\" + \"\\n\"\n",
    "           \"----------------------------\" + \"\\n\"\n",
    "           \"Total Months: \" + str(month_count) + \"\\n\"\n",
    "           \"Total: $\" + str(profit_loss_total) + \"\\n\"\n",
    "           \"Average Change: $\" + str(average_change) + \"\\n\"\n",
    "           \"Greatest Increase in Profits: \" + str(month_increase) + \" ($\" + str(greatest_increase) + \")\" + \"\\n\"\n",
    "           \"Greatest Decrease in Profits: \" + str(month_decrease) + \" ($\" + str(greatest_decrease) + \")\")\n",
    "file.close()"
   ]
  },
  {
   "cell_type": "code",
   "execution_count": null,
   "metadata": {},
   "outputs": [],
   "source": []
  }
 ],
 "metadata": {
  "kernelspec": {
   "display_name": "Python 3",
   "language": "python",
   "name": "python3"
  },
  "language_info": {
   "codemirror_mode": {
    "name": "ipython",
    "version": 3
   },
   "file_extension": ".py",
   "mimetype": "text/x-python",
   "name": "python",
   "nbconvert_exporter": "python",
   "pygments_lexer": "ipython3",
   "version": "3.7.6"
  }
 },
 "nbformat": 4,
 "nbformat_minor": 4
}
