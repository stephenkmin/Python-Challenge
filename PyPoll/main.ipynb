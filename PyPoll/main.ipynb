{
 "cells": [
  {
   "cell_type": "code",
   "execution_count": 1,
   "metadata": {},
   "outputs": [
    {
     "data": {
      "text/html": [
       "<div>\n",
       "<style scoped>\n",
       "    .dataframe tbody tr th:only-of-type {\n",
       "        vertical-align: middle;\n",
       "    }\n",
       "\n",
       "    .dataframe tbody tr th {\n",
       "        vertical-align: top;\n",
       "    }\n",
       "\n",
       "    .dataframe thead th {\n",
       "        text-align: right;\n",
       "    }\n",
       "</style>\n",
       "<table border=\"1\" class=\"dataframe\">\n",
       "  <thead>\n",
       "    <tr style=\"text-align: right;\">\n",
       "      <th></th>\n",
       "      <th>Voter ID</th>\n",
       "      <th>County</th>\n",
       "      <th>Candidate</th>\n",
       "    </tr>\n",
       "  </thead>\n",
       "  <tbody>\n",
       "    <tr>\n",
       "      <th>0</th>\n",
       "      <td>12864552</td>\n",
       "      <td>Marsh</td>\n",
       "      <td>Khan</td>\n",
       "    </tr>\n",
       "    <tr>\n",
       "      <th>1</th>\n",
       "      <td>17444633</td>\n",
       "      <td>Marsh</td>\n",
       "      <td>Correy</td>\n",
       "    </tr>\n",
       "    <tr>\n",
       "      <th>2</th>\n",
       "      <td>19330107</td>\n",
       "      <td>Marsh</td>\n",
       "      <td>Khan</td>\n",
       "    </tr>\n",
       "    <tr>\n",
       "      <th>3</th>\n",
       "      <td>19865775</td>\n",
       "      <td>Queen</td>\n",
       "      <td>Khan</td>\n",
       "    </tr>\n",
       "    <tr>\n",
       "      <th>4</th>\n",
       "      <td>11927875</td>\n",
       "      <td>Marsh</td>\n",
       "      <td>Khan</td>\n",
       "    </tr>\n",
       "  </tbody>\n",
       "</table>\n",
       "</div>"
      ],
      "text/plain": [
       "   Voter ID County Candidate\n",
       "0  12864552  Marsh      Khan\n",
       "1  17444633  Marsh    Correy\n",
       "2  19330107  Marsh      Khan\n",
       "3  19865775  Queen      Khan\n",
       "4  11927875  Marsh      Khan"
      ]
     },
     "execution_count": 1,
     "metadata": {},
     "output_type": "execute_result"
    }
   ],
   "source": [
    "import csv\n",
    "import pandas as pd\n",
    "\n",
    "election = r\"C:\\Users\\skm72\\Desktop\\git\\Homework\\Python - Challenge\\python_challenge\\Resources\\election_data.csv\"\n",
    "election_df=pd.read_csv(election)\n",
    "election_df.head()"
   ]
  },
  {
   "cell_type": "code",
   "execution_count": 2,
   "metadata": {},
   "outputs": [],
   "source": [
    "#Total amount of votes\n",
    "with open(election) as csvfile:\n",
    "    voters_count = sum(1 for row in csvfile)"
   ]
  },
  {
   "cell_type": "code",
   "execution_count": 3,
   "metadata": {},
   "outputs": [],
   "source": [
    "#Finding all the different candidates names and the amount of votes they got\n",
    "candidates = []\n",
    "\n",
    "votes = []\n",
    "for person in election_df[\"Candidate\"]:\n",
    "    if person not in candidates:\n",
    "        candidates.append(person)\n",
    "        votes.append(1)\n",
    "    else:\n",
    "        candidate_index = candidates.index(person)\n",
    "        votes[candidate_index] += 1\n",
    "        \n",
    "max_vote = 0\n",
    "max_candidates = []\n",
    "for i in range(len(votes)):\n",
    "    if votes[i] > max_vote:\n",
    "        max_vote = votes[i]\n",
    "        candidate = candidates[i]\n",
    "        max_candidates = []\n",
    "        max_candidates.append(candidate)"
   ]
  },
  {
   "cell_type": "code",
   "execution_count": 4,
   "metadata": {},
   "outputs": [
    {
     "name": "stdout",
     "output_type": "stream",
     "text": [
      "['Khan', 'Correy', 'Li', \"O'Tooley\"]\n",
      "[2218231, 704200, 492940, 105630]\n"
     ]
    }
   ],
   "source": [
    "#Printing the values to make sure that we got all the information correctly\n",
    "print(candidates)\n",
    "print(votes)"
   ]
  },
  {
   "cell_type": "code",
   "execution_count": 5,
   "metadata": {},
   "outputs": [],
   "source": [
    "#Taking the values of the votes and defining them\n",
    "khan_votes = votes[0]\n",
    "correy_votes = votes[1]\n",
    "li_votes = votes[2]\n",
    "otooley_votes = votes[3]"
   ]
  },
  {
   "cell_type": "code",
   "execution_count": 6,
   "metadata": {},
   "outputs": [],
   "source": [
    "#Getting the percentages\n",
    "khan_percentage = round((khan_votes/voters_count)*100, 3)\n",
    "correy_percentage = round((correy_votes/voters_count)*100, 3)\n",
    "li_percentage = round((li_votes/voters_count)*100, 3)\n",
    "otooley_percentage = round((otooley_votes/voters_count)*100, 3)"
   ]
  },
  {
   "cell_type": "code",
   "execution_count": 7,
   "metadata": {},
   "outputs": [],
   "source": [
    "#Turned the array into a string\n",
    "top_candidate = \"\".join(map(str, max_candidates))"
   ]
  },
  {
   "cell_type": "code",
   "execution_count": 8,
   "metadata": {},
   "outputs": [
    {
     "name": "stdout",
     "output_type": "stream",
     "text": [
      "Election Results\n",
      "----------------------------\n",
      "Total Votes: 3521002\n",
      "----------------------------\n",
      "Khan: 63.0% (2218231)\n",
      "Correy: 20.0% (704200)\n",
      "Li: 14.0% (492940)\n",
      "O'Tooley: 3.0% (105630)\n",
      "----------------------------\n",
      "Winner: Khan\n",
      "----------------------------\n"
     ]
    }
   ],
   "source": [
    "print(\"Election Results\")\n",
    "print(\"----------------------------\")\n",
    "print(\"Total Votes: \" + str(voters_count))\n",
    "print(\"----------------------------\")\n",
    "print(str(candidates[0]) + \": \" + str(khan_percentage) + \"% \" + \"(\" + str(khan_votes) + \")\")\n",
    "print(str(candidates[1]) + \": \" + str(correy_percentage) + \"% \" + \"(\" + str(correy_votes) + \")\")\n",
    "print(str(candidates[2]) + \": \" + str(li_percentage) + \"% \" + \"(\" + str(li_votes) + \")\")\n",
    "print(str(candidates[3]) + \": \" + str(otooley_percentage) + \"% \" + \"(\" + str(otooley_votes) + \")\")\n",
    "print(\"----------------------------\")\n",
    "print(\"Winner: \" + top_candidate)\n",
    "print(\"----------------------------\")"
   ]
  },
  {
   "cell_type": "code",
   "execution_count": 9,
   "metadata": {
    "scrolled": true
   },
   "outputs": [],
   "source": [
    "with open(\"Election Results.txt\", \"w\") as file:\n",
    "    file.write(\"Election Results\" + \"\\n\" +\n",
    "               \"----------------------------\" + \"\\n\" +\n",
    "               \"Total Votes: \" + str(voters_count) + \"\\n\" +\n",
    "               \"----------------------------\" + \"\\n\" +\n",
    "               str(candidates[0]) + \": \" + str(khan_percentage) + \"% \" + \"(\" + str(khan_votes) + \")\" + \"\\n\" +\n",
    "               str(candidates[1]) + \": \" + str(correy_percentage) + \"% \" + \"(\" + str(correy_votes) + \")\" + \"\\n\" +\n",
    "               str(candidates[2]) + \": \" + str(li_percentage) + \"% \" + \"(\" + str(li_votes) + \")\" + \"\\n\" +\n",
    "               str(candidates[3]) + \": \" + str(otooley_percentage) + \"% \" + \"(\" + str(otooley_votes) + \")\" + \"\\n\" +\n",
    "               \"----------------------------\" + \"\\n\" +\n",
    "               \"Winner: \" + top_candidate + \"\\n\" +\n",
    "               \"----------------------------\")\n",
    "file.close()"
   ]
  },
  {
   "cell_type": "code",
   "execution_count": null,
   "metadata": {},
   "outputs": [],
   "source": []
  }
 ],
 "metadata": {
  "kernelspec": {
   "display_name": "Python 3",
   "language": "python",
   "name": "python3"
  },
  "language_info": {
   "codemirror_mode": {
    "name": "ipython",
    "version": 3
   },
   "file_extension": ".py",
   "mimetype": "text/x-python",
   "name": "python",
   "nbconvert_exporter": "python",
   "pygments_lexer": "ipython3",
   "version": "3.7.6"
  }
 },
 "nbformat": 4,
 "nbformat_minor": 4
}
